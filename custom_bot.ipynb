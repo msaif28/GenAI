{
  "nbformat": 4,
  "nbformat_minor": 0,
  "metadata": {
    "colab": {
      "provenance": [],
      "authorship_tag": "ABX9TyP1my0WSh+So5alxs/K2Od0",
      "include_colab_link": true
    },
    "kernelspec": {
      "name": "python3",
      "display_name": "Python 3"
    },
    "language_info": {
      "name": "python"
    }
  },
  "cells": [
    {
      "cell_type": "markdown",
      "metadata": {
        "id": "view-in-github",
        "colab_type": "text"
      },
      "source": [
        "<a href=\"https://colab.research.google.com/github/msaif28/GenAI/blob/main/custom_bot.ipynb\" target=\"_parent\"><img src=\"https://colab.research.google.com/assets/colab-badge.svg\" alt=\"Open In Colab\"/></a>"
      ]
    },
    {
      "cell_type": "markdown",
      "source": [
        "### Dataset: 2023 Fashion Trends\n",
        "To complete my custom chatbot project, I have chosen the 2023 Fashion Trends dataset. This dataset contains information about the latest fashion trends for the year 2023, including styles, popular colors, fabric types, and other key fashion details. The dataset contains 82 rows and 3 different columns, making it well-suited for this application.\n"
      ],
      "metadata": {
        "id": "YRjnfjfHReOm"
      }
    },
    {
      "cell_type": "markdown",
      "source": [
        "### User Case Scenario\n",
        "The custom chatbot is being developed to deliver timely and detailed insights on the fashion trends of 2023 to users keen on keeping abreast of the newest styles and designs. Through incorporating this dataset, the chatbot will have the capability to address precise inquiries regarding fashion trends, encompassing information on favored colors, materials, styles, and accessories for the year 2023.\n",
        "\n",
        "This tailored functionality will prove advantageous for fashion aficionados, stylists, shoppers, and anyone looking to refresh their wardrobe with the season's latest trends. Moreover, it will act as a crucial resource for retailers, designers, and marketers within the fashion sector who require up-to-the-minute fashion intelligence to cater to their clients' needs effectively.\n",
        "\n",
        "By providing reliable updates on 2023 fashion trends, the chatbot aims to aid users in making well-informed fashion decisions, elevating their style quotient, and maintaining a competitive edge in the ever-evolving fashion landscape.\n"
      ],
      "metadata": {
        "id": "pe7u0qfDRikf"
      }
    },
    {
      "cell_type": "markdown",
      "source": [
        "### Data Wrangling\n",
        "\n"
      ],
      "metadata": {
        "id": "B7qLMbZlRt1l"
      }
    },
    {
      "cell_type": "code",
      "source": [
        "!pip install -r /home/saifm/custom_chatbot/requirements.txt -q\n"
      ],
      "metadata": {
        "id": "qi_kT0VrR2nY"
      },
      "execution_count": 160,
      "outputs": []
    },
    {
      "cell_type": "code",
      "source": [],
      "metadata": {
        "id": "6Squ1FxxXlaO"
      },
      "execution_count": 160,
      "outputs": []
    },
    {
      "cell_type": "code",
      "source": [
        "import pandas as pd\n",
        "import numpy as np\n",
        "import openai"
      ],
      "metadata": {
        "id": "mdZvflubR4c2"
      },
      "execution_count": 161,
      "outputs": []
    },
    {
      "cell_type": "code",
      "source": [
        "df= pd.read_csv('/home/saifm/custom_chatbot/data/2023_fashion_trends.csv')"
      ],
      "metadata": {
        "id": "pT2Y66qtUuex"
      },
      "execution_count": 162,
      "outputs": []
    },
    {
      "cell_type": "code",
      "source": [
        "df.head()"
      ],
      "metadata": {
        "colab": {
          "base_uri": "https://localhost:8080/",
          "height": 293
        },
        "id": "cstWRdHEU5f9",
        "outputId": "14fc7775-82e2-4cf1-9775-254d21f2d6c9"
      },
      "execution_count": 163,
      "outputs": [
        {
          "output_type": "execute_result",
          "data": {
            "text/plain": [
              "                                                 URL  \\\n",
              "0  https://www.refinery29.com/en-us/fashion-trend...   \n",
              "1  https://www.refinery29.com/en-us/fashion-trend...   \n",
              "2  https://www.refinery29.com/en-us/fashion-trend...   \n",
              "3  https://www.refinery29.com/en-us/fashion-trend...   \n",
              "4  https://www.refinery29.com/en-us/fashion-trend...   \n",
              "\n",
              "                                              Trends  \\\n",
              "0  2023 Fashion Trend: Red. Glossy red hues took ...   \n",
              "1  2023 Fashion Trend: Cargo Pants. Utilitarian w...   \n",
              "2  2023 Fashion Trend: Sheer Clothing. \"Bare it a...   \n",
              "3  2023 Fashion Trend: Denim Reimagined. From dou...   \n",
              "4  2023 Fashion Trend: Shine For The Daytime. The...   \n",
              "\n",
              "                                              Source  \n",
              "0  7 Fashion Trends That Will Take Over 2023 — Sh...  \n",
              "1  7 Fashion Trends That Will Take Over 2023 — Sh...  \n",
              "2  7 Fashion Trends That Will Take Over 2023 — Sh...  \n",
              "3  7 Fashion Trends That Will Take Over 2023 — Sh...  \n",
              "4  7 Fashion Trends That Will Take Over 2023 — Sh...  "
            ],
            "text/html": [
              "<div>\n",
              "<style scoped>\n",
              "    .dataframe tbody tr th:only-of-type {\n",
              "        vertical-align: middle;\n",
              "    }\n",
              "\n",
              "    .dataframe tbody tr th {\n",
              "        vertical-align: top;\n",
              "    }\n",
              "\n",
              "    .dataframe thead th {\n",
              "        text-align: right;\n",
              "    }\n",
              "</style>\n",
              "<table border=\"1\" class=\"dataframe\">\n",
              "  <thead>\n",
              "    <tr style=\"text-align: right;\">\n",
              "      <th></th>\n",
              "      <th>URL</th>\n",
              "      <th>Trends</th>\n",
              "      <th>Source</th>\n",
              "    </tr>\n",
              "  </thead>\n",
              "  <tbody>\n",
              "    <tr>\n",
              "      <th>0</th>\n",
              "      <td>https://www.refinery29.com/en-us/fashion-trend...</td>\n",
              "      <td>2023 Fashion Trend: Red. Glossy red hues took ...</td>\n",
              "      <td>7 Fashion Trends That Will Take Over 2023 — Sh...</td>\n",
              "    </tr>\n",
              "    <tr>\n",
              "      <th>1</th>\n",
              "      <td>https://www.refinery29.com/en-us/fashion-trend...</td>\n",
              "      <td>2023 Fashion Trend: Cargo Pants. Utilitarian w...</td>\n",
              "      <td>7 Fashion Trends That Will Take Over 2023 — Sh...</td>\n",
              "    </tr>\n",
              "    <tr>\n",
              "      <th>2</th>\n",
              "      <td>https://www.refinery29.com/en-us/fashion-trend...</td>\n",
              "      <td>2023 Fashion Trend: Sheer Clothing. \"Bare it a...</td>\n",
              "      <td>7 Fashion Trends That Will Take Over 2023 — Sh...</td>\n",
              "    </tr>\n",
              "    <tr>\n",
              "      <th>3</th>\n",
              "      <td>https://www.refinery29.com/en-us/fashion-trend...</td>\n",
              "      <td>2023 Fashion Trend: Denim Reimagined. From dou...</td>\n",
              "      <td>7 Fashion Trends That Will Take Over 2023 — Sh...</td>\n",
              "    </tr>\n",
              "    <tr>\n",
              "      <th>4</th>\n",
              "      <td>https://www.refinery29.com/en-us/fashion-trend...</td>\n",
              "      <td>2023 Fashion Trend: Shine For The Daytime. The...</td>\n",
              "      <td>7 Fashion Trends That Will Take Over 2023 — Sh...</td>\n",
              "    </tr>\n",
              "  </tbody>\n",
              "</table>\n",
              "</div>"
            ]
          },
          "metadata": {},
          "execution_count": 163
        }
      ]
    },
    {
      "cell_type": "code",
      "source": [
        "df.shape"
      ],
      "metadata": {
        "colab": {
          "base_uri": "https://localhost:8080/"
        },
        "id": "4kvqH8ONVNoW",
        "outputId": "4cd189f0-c955-41ff-880a-2441064e2bc6"
      },
      "execution_count": 164,
      "outputs": [
        {
          "output_type": "execute_result",
          "data": {
            "text/plain": [
              "(82, 3)"
            ]
          },
          "metadata": {},
          "execution_count": 164
        }
      ]
    },
    {
      "cell_type": "code",
      "source": [
        "df.Trends"
      ],
      "metadata": {
        "colab": {
          "base_uri": "https://localhost:8080/"
        },
        "id": "o0Ow1zSuVQSW",
        "outputId": "6f575c9d-1f9c-4f9e-d5c0-7945402cdd4d"
      },
      "execution_count": 165,
      "outputs": [
        {
          "output_type": "execute_result",
          "data": {
            "text/plain": [
              "0     2023 Fashion Trend: Red. Glossy red hues took ...\n",
              "1     2023 Fashion Trend: Cargo Pants. Utilitarian w...\n",
              "2     2023 Fashion Trend: Sheer Clothing. \"Bare it a...\n",
              "3     2023 Fashion Trend: Denim Reimagined. From dou...\n",
              "4     2023 Fashion Trend: Shine For The Daytime. The...\n",
              "                            ...                        \n",
              "77    If lime green isn't your vibe, rest assured th...\n",
              "78    \"As someone who can clearly (not fondly) remem...\n",
              "79    \"Combine this design shift with the fact that ...\n",
              "80    Thought party season ended at the stroke of mi...\n",
              "81    \"This season, we saw the revival of the bubble...\n",
              "Name: Trends, Length: 82, dtype: object"
            ]
          },
          "metadata": {},
          "execution_count": 165
        }
      ]
    },
    {
      "cell_type": "code",
      "source": [
        "## Checking every row of Trends has information\n",
        "\n",
        "df[df[\"Trends\"].str.len() == 0]"
      ],
      "metadata": {
        "colab": {
          "base_uri": "https://localhost:8080/",
          "height": 49
        },
        "id": "QCdu_TxfVcgk",
        "outputId": "71294901-25c8-4c12-8ed6-7110fe54c5ca"
      },
      "execution_count": 166,
      "outputs": [
        {
          "output_type": "execute_result",
          "data": {
            "text/plain": [
              "Empty DataFrame\n",
              "Columns: [URL, Trends, Source]\n",
              "Index: []"
            ],
            "text/html": [
              "<div>\n",
              "<style scoped>\n",
              "    .dataframe tbody tr th:only-of-type {\n",
              "        vertical-align: middle;\n",
              "    }\n",
              "\n",
              "    .dataframe tbody tr th {\n",
              "        vertical-align: top;\n",
              "    }\n",
              "\n",
              "    .dataframe thead th {\n",
              "        text-align: right;\n",
              "    }\n",
              "</style>\n",
              "<table border=\"1\" class=\"dataframe\">\n",
              "  <thead>\n",
              "    <tr style=\"text-align: right;\">\n",
              "      <th></th>\n",
              "      <th>URL</th>\n",
              "      <th>Trends</th>\n",
              "      <th>Source</th>\n",
              "    </tr>\n",
              "  </thead>\n",
              "  <tbody>\n",
              "  </tbody>\n",
              "</table>\n",
              "</div>"
            ]
          },
          "metadata": {},
          "execution_count": 166
        }
      ]
    },
    {
      "cell_type": "code",
      "source": [
        "## Since we working on Trends columns as per statement Other sources are not required so i am dropping this\n",
        "\n",
        "df = df.drop(['URL', 'Source'], axis=1)\n"
      ],
      "metadata": {
        "id": "Hb1zjbU1VptD"
      },
      "execution_count": 167,
      "outputs": []
    },
    {
      "cell_type": "code",
      "source": [
        "df.head()"
      ],
      "metadata": {
        "colab": {
          "base_uri": "https://localhost:8080/",
          "height": 206
        },
        "id": "YIWxPxDcWbtK",
        "outputId": "2c86d260-cb15-4c4c-e3e3-5c00f5c77eb5"
      },
      "execution_count": 168,
      "outputs": [
        {
          "output_type": "execute_result",
          "data": {
            "text/plain": [
              "                                              Trends\n",
              "0  2023 Fashion Trend: Red. Glossy red hues took ...\n",
              "1  2023 Fashion Trend: Cargo Pants. Utilitarian w...\n",
              "2  2023 Fashion Trend: Sheer Clothing. \"Bare it a...\n",
              "3  2023 Fashion Trend: Denim Reimagined. From dou...\n",
              "4  2023 Fashion Trend: Shine For The Daytime. The..."
            ],
            "text/html": [
              "<div>\n",
              "<style scoped>\n",
              "    .dataframe tbody tr th:only-of-type {\n",
              "        vertical-align: middle;\n",
              "    }\n",
              "\n",
              "    .dataframe tbody tr th {\n",
              "        vertical-align: top;\n",
              "    }\n",
              "\n",
              "    .dataframe thead th {\n",
              "        text-align: right;\n",
              "    }\n",
              "</style>\n",
              "<table border=\"1\" class=\"dataframe\">\n",
              "  <thead>\n",
              "    <tr style=\"text-align: right;\">\n",
              "      <th></th>\n",
              "      <th>Trends</th>\n",
              "    </tr>\n",
              "  </thead>\n",
              "  <tbody>\n",
              "    <tr>\n",
              "      <th>0</th>\n",
              "      <td>2023 Fashion Trend: Red. Glossy red hues took ...</td>\n",
              "    </tr>\n",
              "    <tr>\n",
              "      <th>1</th>\n",
              "      <td>2023 Fashion Trend: Cargo Pants. Utilitarian w...</td>\n",
              "    </tr>\n",
              "    <tr>\n",
              "      <th>2</th>\n",
              "      <td>2023 Fashion Trend: Sheer Clothing. \"Bare it a...</td>\n",
              "    </tr>\n",
              "    <tr>\n",
              "      <th>3</th>\n",
              "      <td>2023 Fashion Trend: Denim Reimagined. From dou...</td>\n",
              "    </tr>\n",
              "    <tr>\n",
              "      <th>4</th>\n",
              "      <td>2023 Fashion Trend: Shine For The Daytime. The...</td>\n",
              "    </tr>\n",
              "  </tbody>\n",
              "</table>\n",
              "</div>"
            ]
          },
          "metadata": {},
          "execution_count": 168
        }
      ]
    },
    {
      "cell_type": "code",
      "source": [
        "df.columns = ['text' if x=='Trends' else x for x in df.columns]\n"
      ],
      "metadata": {
        "id": "Kx3OaCanWrvP"
      },
      "execution_count": 169,
      "outputs": []
    },
    {
      "cell_type": "code",
      "source": [
        "df.head()"
      ],
      "metadata": {
        "colab": {
          "base_uri": "https://localhost:8080/",
          "height": 206
        },
        "id": "1KwPv381WvG1",
        "outputId": "e3829cb0-7c49-4d1c-a5df-0645e9ba691f"
      },
      "execution_count": 170,
      "outputs": [
        {
          "output_type": "execute_result",
          "data": {
            "text/plain": [
              "                                                text\n",
              "0  2023 Fashion Trend: Red. Glossy red hues took ...\n",
              "1  2023 Fashion Trend: Cargo Pants. Utilitarian w...\n",
              "2  2023 Fashion Trend: Sheer Clothing. \"Bare it a...\n",
              "3  2023 Fashion Trend: Denim Reimagined. From dou...\n",
              "4  2023 Fashion Trend: Shine For The Daytime. The..."
            ],
            "text/html": [
              "<div>\n",
              "<style scoped>\n",
              "    .dataframe tbody tr th:only-of-type {\n",
              "        vertical-align: middle;\n",
              "    }\n",
              "\n",
              "    .dataframe tbody tr th {\n",
              "        vertical-align: top;\n",
              "    }\n",
              "\n",
              "    .dataframe thead th {\n",
              "        text-align: right;\n",
              "    }\n",
              "</style>\n",
              "<table border=\"1\" class=\"dataframe\">\n",
              "  <thead>\n",
              "    <tr style=\"text-align: right;\">\n",
              "      <th></th>\n",
              "      <th>text</th>\n",
              "    </tr>\n",
              "  </thead>\n",
              "  <tbody>\n",
              "    <tr>\n",
              "      <th>0</th>\n",
              "      <td>2023 Fashion Trend: Red. Glossy red hues took ...</td>\n",
              "    </tr>\n",
              "    <tr>\n",
              "      <th>1</th>\n",
              "      <td>2023 Fashion Trend: Cargo Pants. Utilitarian w...</td>\n",
              "    </tr>\n",
              "    <tr>\n",
              "      <th>2</th>\n",
              "      <td>2023 Fashion Trend: Sheer Clothing. \"Bare it a...</td>\n",
              "    </tr>\n",
              "    <tr>\n",
              "      <th>3</th>\n",
              "      <td>2023 Fashion Trend: Denim Reimagined. From dou...</td>\n",
              "    </tr>\n",
              "    <tr>\n",
              "      <th>4</th>\n",
              "      <td>2023 Fashion Trend: Shine For The Daytime. The...</td>\n",
              "    </tr>\n",
              "  </tbody>\n",
              "</table>\n",
              "</div>"
            ]
          },
          "metadata": {},
          "execution_count": 170
        }
      ]
    },
    {
      "cell_type": "markdown",
      "source": [
        "### Custom Query Completion"
      ],
      "metadata": {
        "id": "ur9iRb0mXrs-"
      }
    },
    {
      "cell_type": "code",
      "source": [
        "import openai\n"
      ],
      "metadata": {
        "id": "zIxttnlaXvvU"
      },
      "execution_count": 171,
      "outputs": []
    },
    {
      "cell_type": "code",
      "source": [
        "# Function to get embeddings in batches\n",
        "def get_embeddings(dataframe, column_name, model_name, batch_size=100):\n",
        "    \"\"\"\n",
        "    Fetch embeddings for a specified column in a pandas DataFrame using OpenAI's embedding model in batches.\n",
        "\n",
        "    :param dataframe: pandas DataFrame containing the text data.\n",
        "    :param column_name: The name of the column containing text to embed.\n",
        "    :param model_name: The name of the OpenAI embedding model to use.\n",
        "    :param batch_size: The number of rows to process in each batch.\n",
        "    :return: List of embeddings.\n",
        "    \"\"\"\n",
        "    embeddings = []\n",
        "    for i in range(0, len(dataframe), batch_size):\n",
        "        # Extract the batch of text\n",
        "        batch_texts = dataframe.iloc[i:i+batch_size][column_name].tolist()\n",
        "        # Fetch embeddings for the batch\n",
        "        response = openai.Embedding.create(\n",
        "            input=batch_texts,\n",
        "            engine=model_name\n",
        "        )\n",
        "        # Extract embeddings from the response and add to the list\n",
        "        batch_embeddings = [data[\"embedding\"] for data in response[\"data\"]]\n",
        "        embeddings.extend(batch_embeddings)\n",
        "    return embeddings\n",
        "\n",
        "# Set your API key and embedding model name\n",
        "openai.api_key = \"\"\n",
        "EMBEDDING_MODEL_NAME = \"text-embedding-ada-002\"\n",
        "\n",
        "# Call the function to get embeddings\n",
        "df['embeddings'] = get_embeddings(df, 'text', EMBEDDING_MODEL_NAME, 100)\n",
        "\n",
        "# Display the head of the DataFrame to verify\n",
        "df.head()"
      ],
      "metadata": {
        "colab": {
          "base_uri": "https://localhost:8080/",
          "height": 206
        },
        "id": "tKtXu3mPcApJ",
        "outputId": "6d90df9f-9ed4-40f8-e15e-759d608ca560"
      },
      "execution_count": 172,
      "outputs": [
        {
          "output_type": "execute_result",
          "data": {
            "text/plain": [
              "                                                text  \\\n",
              "0  2023 Fashion Trend: Red. Glossy red hues took ...   \n",
              "1  2023 Fashion Trend: Cargo Pants. Utilitarian w...   \n",
              "2  2023 Fashion Trend: Sheer Clothing. \"Bare it a...   \n",
              "3  2023 Fashion Trend: Denim Reimagined. From dou...   \n",
              "4  2023 Fashion Trend: Shine For The Daytime. The...   \n",
              "\n",
              "                                          embeddings  \n",
              "0  [-0.020933903753757477, -0.02226594276726246, ...  \n",
              "1  [-0.001787635963410139, -0.028945190832018852,...  \n",
              "2  [-0.010452313348650932, -0.019246812909841537,...  \n",
              "3  [-0.0155369583517313, -0.005411861930042505, 0...  \n",
              "4  [-0.004937830381095409, 0.0017760044429451227,...  "
            ],
            "text/html": [
              "<div>\n",
              "<style scoped>\n",
              "    .dataframe tbody tr th:only-of-type {\n",
              "        vertical-align: middle;\n",
              "    }\n",
              "\n",
              "    .dataframe tbody tr th {\n",
              "        vertical-align: top;\n",
              "    }\n",
              "\n",
              "    .dataframe thead th {\n",
              "        text-align: right;\n",
              "    }\n",
              "</style>\n",
              "<table border=\"1\" class=\"dataframe\">\n",
              "  <thead>\n",
              "    <tr style=\"text-align: right;\">\n",
              "      <th></th>\n",
              "      <th>text</th>\n",
              "      <th>embeddings</th>\n",
              "    </tr>\n",
              "  </thead>\n",
              "  <tbody>\n",
              "    <tr>\n",
              "      <th>0</th>\n",
              "      <td>2023 Fashion Trend: Red. Glossy red hues took ...</td>\n",
              "      <td>[-0.020933903753757477, -0.02226594276726246, ...</td>\n",
              "    </tr>\n",
              "    <tr>\n",
              "      <th>1</th>\n",
              "      <td>2023 Fashion Trend: Cargo Pants. Utilitarian w...</td>\n",
              "      <td>[-0.001787635963410139, -0.028945190832018852,...</td>\n",
              "    </tr>\n",
              "    <tr>\n",
              "      <th>2</th>\n",
              "      <td>2023 Fashion Trend: Sheer Clothing. \"Bare it a...</td>\n",
              "      <td>[-0.010452313348650932, -0.019246812909841537,...</td>\n",
              "    </tr>\n",
              "    <tr>\n",
              "      <th>3</th>\n",
              "      <td>2023 Fashion Trend: Denim Reimagined. From dou...</td>\n",
              "      <td>[-0.0155369583517313, -0.005411861930042505, 0...</td>\n",
              "    </tr>\n",
              "    <tr>\n",
              "      <th>4</th>\n",
              "      <td>2023 Fashion Trend: Shine For The Daytime. The...</td>\n",
              "      <td>[-0.004937830381095409, 0.0017760044429451227,...</td>\n",
              "    </tr>\n",
              "  </tbody>\n",
              "</table>\n",
              "</div>"
            ]
          },
          "metadata": {},
          "execution_count": 172
        }
      ]
    },
    {
      "cell_type": "code",
      "source": [
        "df.to_csv(\"/home/saifm/custom_chatbot/embeddings.csv\")"
      ],
      "metadata": {
        "id": "JOngY-SkcUQo"
      },
      "execution_count": 173,
      "outputs": []
    },
    {
      "cell_type": "code",
      "source": [
        "\n",
        "# Assuming your embeddings are saved in a column named \"embeddings\" in the CSV file\n",
        "csv_file_path = \"/home/saifm/custom_chatbot/embeddings.csv\"  # Specify the path to your CSV file\n",
        "\n",
        "# Load the CSV file into a DataFrame\n",
        "df = pd.read_csv(csv_file_path, index_col=0)\n",
        "\n",
        "# Convert the string representations of the embeddings back into NumPy arrays\n",
        "df['embeddings'] = df['embeddings'].apply(lambda x: np.array(eval(x)))\n",
        "\n",
        "# Display the DataFrame to verify the embeddings are correctly loaded\n",
        "df.head(50)\n"
      ],
      "metadata": {
        "colab": {
          "base_uri": "https://localhost:8080/",
          "height": 1000
        },
        "id": "haLRbcphcwI7",
        "outputId": "de956fee-1462-43fb-8490-db7d6586af64"
      },
      "execution_count": 174,
      "outputs": [
        {
          "output_type": "execute_result",
          "data": {
            "text/plain": [
              "                                                 text  \\\n",
              "0   2023 Fashion Trend: Red. Glossy red hues took ...   \n",
              "1   2023 Fashion Trend: Cargo Pants. Utilitarian w...   \n",
              "2   2023 Fashion Trend: Sheer Clothing. \"Bare it a...   \n",
              "3   2023 Fashion Trend: Denim Reimagined. From dou...   \n",
              "4   2023 Fashion Trend: Shine For The Daytime. The...   \n",
              "5   2023 Fashion Trend: Maxi Skirts. In response t...   \n",
              "6   2023 Fashion Trend: Cobalt Blue. The strongest...   \n",
              "7   Sculptural Bags That Make a Simple Statement. ...   \n",
              "8   All of the Pastels. Pastels are classic (albei...   \n",
              "9   Denim-On-Denim. McKenna’s second most anticipa...   \n",
              "10  More Maxi Skirt Moments. Fashion expert and st...   \n",
              "11  Platform Slip-Ons. Though the platform slip-on...   \n",
              "12  More Mesh. Another Y2K-esque fashion statement...   \n",
              "13  Transparent Layering. Celebrities have been al...   \n",
              "14  ’90s Minimalism. As opposed to last spring’s d...   \n",
              "15  Romantic Femininity. Balletcore is here to sta...   \n",
              "16  New-School Fringe. Fringe has long been associ...   \n",
              "17  Flashy Metallics. Sequins and shiny finishes s...   \n",
              "18  Oversized Bags. As cute as they can be, tiny b...   \n",
              "19  Baggy Denim. Denim remains just as baggy this ...   \n",
              "20  Moto Detailing. You’ll probably never become a...   \n",
              "21  Dreamy Rosettes. We know, we know: Florals for...   \n",
              "22  Perfectly Imperfect. I recently wore Prada’s s...   \n",
              "23  Blazers Become Cinched. When ultimate cool-gir...   \n",
              "24  Moto-Inspired. A luxe piece of leather is simu...   \n",
              "25  Bold Color Bottoms. As someone who tends to le...   \n",
              "26  Bright White Footwear. I'm excited to lighten ...   \n",
              "27  Sculptural Statement Earrings. For me, this sp...   \n",
              "28  New Neoclassical. I am always smitten with lad...   \n",
              "29  Detailed Denim. I’m very excited for all of sp...   \n",
              "30  Modern Boho. This spring, I am excited to embr...   \n",
              "31  The Tailored Look. This spring, I’m looking to...   \n",
              "32  Tip-Top Tops. As I tend to mostly buy outerwea...   \n",
              "33  Draped Dressing. I can’t wait to wear spring’s...   \n",
              "34  Sheer Layering. I never in my life thought I w...   \n",
              "35  Floor Length for Days. Floor-grazing maxiskirt...   \n",
              "36  Ruby Slippers. Late last year, I suddenly deci...   \n",
              "37  The-Bigger-the-Better Bags. Gone are the days ...   \n",
              "38  Pinstripe Tailoring. The suit vest sparked a s...   \n",
              "39  New Reasons for Nightwear. Influenced by the s...   \n",
              "40  In a diplomatic turn, designers have extended ...   \n",
              "41  \"Spring/summer 2023 marks the reinstatement of...   \n",
              "42  Metallics are commonplace in autumn/winter col...   \n",
              "43  Interesting metallics were a standout trend fo...   \n",
              "44  I get it. Some of the trends on this list migh...   \n",
              "45  \"It's no surprise that a post-lockdown world i...   \n",
              "46  Fashion likes to work in extremes; typically, ...   \n",
              "47  \"Big bags have become a favourite among celebr...   \n",
              "48  Fashion's fascination with knitwear doesn't di...   \n",
              "49  \"Crochet featured in so many collections, from...   \n",
              "\n",
              "                                           embeddings  \n",
              "0   [-0.020933903753757477, -0.02226594276726246, ...  \n",
              "1   [-0.001787635963410139, -0.028945190832018852,...  \n",
              "2   [-0.010452313348650932, -0.019246812909841537,...  \n",
              "3   [-0.0155369583517313, -0.005411861930042505, 0...  \n",
              "4   [-0.004937830381095409, 0.0017760044429451227,...  \n",
              "5   [-0.025447335094213486, -0.01921859383583069, ...  \n",
              "6   [-0.0069767870008945465, -0.021418340504169464...  \n",
              "7   [-0.027015026658773422, -0.0008984121959656477...  \n",
              "8   [-0.007083786651492119, -0.002227324992418289,...  \n",
              "9   [-0.018341973423957825, -0.015721691772341728,...  \n",
              "10  [-0.013555482029914856, -0.0021515581756830215...  \n",
              "11  [-0.0062597692012786865, -0.02135361172258854,...  \n",
              "12  [-0.02809741348028183, -0.004492631647735834, ...  \n",
              "13  [-0.01733557879924774, -0.011049418710172176, ...  \n",
              "14  [-0.014001069590449333, -0.0031081701163202524...  \n",
              "15  [-0.04315154626965523, -0.01202584058046341, -...  \n",
              "16  [-0.01182369515299797, -0.00494574848562479, 0...  \n",
              "17  [-0.008423937484622002, 0.0021610537078231573,...  \n",
              "18  [-0.0017038026126101613, -0.006391137838363647...  \n",
              "19  [-0.02462688274681568, -0.012207004241645336, ...  \n",
              "20  [-0.015753036364912987, -0.0014947105664759874...  \n",
              "21  [-0.012544839642941952, 0.00554816797375679, 0...  \n",
              "22  [-0.027120858430862427, -0.002347387373447418,...  \n",
              "23  [-0.029545610770583153, -0.021916916593909264,...  \n",
              "24  [-0.03398443013429642, -0.009518913924694061, ...  \n",
              "25  [-0.014990242198109627, -0.0068103051744401455...  \n",
              "26  [0.0003186866524629295, -0.028604554012417793,...  \n",
              "27  [-0.03315258026123047, -0.004639524035155773, ...  \n",
              "28  [-0.03609175980091095, -0.003383602714166045, ...  \n",
              "29  [-0.018048234283924103, -0.004589736461639404,...  \n",
              "30  [-0.04759504646062851, -0.008400321938097477, ...  \n",
              "31  [-0.023655513301491737, 0.006569489371031523, ...  \n",
              "32  [-0.017488377168774605, -0.008764571510255337,...  \n",
              "33  [-0.015144383534789085, -0.004899653606116772,...  \n",
              "34  [-0.013652394525706768, -0.01009349338710308, ...  \n",
              "35  [-0.023820169270038605, -0.009032574482262135,...  \n",
              "36  [-0.0034449012018740177, -0.029273418709635735...  \n",
              "37  [-0.011324513703584671, -0.0036169933155179024...  \n",
              "38  [-0.009280670434236526, 0.005129323806613684, ...  \n",
              "39  [0.00770843680948019, -0.006961363833397627, 0...  \n",
              "40  [-0.007449679542332888, -0.013561342842876911,...  \n",
              "41  [-0.018507791683077812, 0.011237367056310177, ...  \n",
              "42  [-0.023563848808407784, 0.002802578266710043, ...  \n",
              "43  [-0.02782713808119297, 0.012784005142748356, 0...  \n",
              "44  [-0.021660028025507927, -0.008587434887886047,...  \n",
              "45  [-0.009852975606918335, -0.00619981624186039, ...  \n",
              "46  [-0.019205139949917793, 0.010247829370200634, ...  \n",
              "47  [-0.016332341358065605, -0.0036791893653571606...  \n",
              "48  [-0.004620123654603958, -0.005538783967494965,...  \n",
              "49  [-0.029567113146185875, -0.010345779359340668,...  "
            ],
            "text/html": [
              "<div>\n",
              "<style scoped>\n",
              "    .dataframe tbody tr th:only-of-type {\n",
              "        vertical-align: middle;\n",
              "    }\n",
              "\n",
              "    .dataframe tbody tr th {\n",
              "        vertical-align: top;\n",
              "    }\n",
              "\n",
              "    .dataframe thead th {\n",
              "        text-align: right;\n",
              "    }\n",
              "</style>\n",
              "<table border=\"1\" class=\"dataframe\">\n",
              "  <thead>\n",
              "    <tr style=\"text-align: right;\">\n",
              "      <th></th>\n",
              "      <th>text</th>\n",
              "      <th>embeddings</th>\n",
              "    </tr>\n",
              "  </thead>\n",
              "  <tbody>\n",
              "    <tr>\n",
              "      <th>0</th>\n",
              "      <td>2023 Fashion Trend: Red. Glossy red hues took ...</td>\n",
              "      <td>[-0.020933903753757477, -0.02226594276726246, ...</td>\n",
              "    </tr>\n",
              "    <tr>\n",
              "      <th>1</th>\n",
              "      <td>2023 Fashion Trend: Cargo Pants. Utilitarian w...</td>\n",
              "      <td>[-0.001787635963410139, -0.028945190832018852,...</td>\n",
              "    </tr>\n",
              "    <tr>\n",
              "      <th>2</th>\n",
              "      <td>2023 Fashion Trend: Sheer Clothing. \"Bare it a...</td>\n",
              "      <td>[-0.010452313348650932, -0.019246812909841537,...</td>\n",
              "    </tr>\n",
              "    <tr>\n",
              "      <th>3</th>\n",
              "      <td>2023 Fashion Trend: Denim Reimagined. From dou...</td>\n",
              "      <td>[-0.0155369583517313, -0.005411861930042505, 0...</td>\n",
              "    </tr>\n",
              "    <tr>\n",
              "      <th>4</th>\n",
              "      <td>2023 Fashion Trend: Shine For The Daytime. The...</td>\n",
              "      <td>[-0.004937830381095409, 0.0017760044429451227,...</td>\n",
              "    </tr>\n",
              "    <tr>\n",
              "      <th>5</th>\n",
              "      <td>2023 Fashion Trend: Maxi Skirts. In response t...</td>\n",
              "      <td>[-0.025447335094213486, -0.01921859383583069, ...</td>\n",
              "    </tr>\n",
              "    <tr>\n",
              "      <th>6</th>\n",
              "      <td>2023 Fashion Trend: Cobalt Blue. The strongest...</td>\n",
              "      <td>[-0.0069767870008945465, -0.021418340504169464...</td>\n",
              "    </tr>\n",
              "    <tr>\n",
              "      <th>7</th>\n",
              "      <td>Sculptural Bags That Make a Simple Statement. ...</td>\n",
              "      <td>[-0.027015026658773422, -0.0008984121959656477...</td>\n",
              "    </tr>\n",
              "    <tr>\n",
              "      <th>8</th>\n",
              "      <td>All of the Pastels. Pastels are classic (albei...</td>\n",
              "      <td>[-0.007083786651492119, -0.002227324992418289,...</td>\n",
              "    </tr>\n",
              "    <tr>\n",
              "      <th>9</th>\n",
              "      <td>Denim-On-Denim. McKenna’s second most anticipa...</td>\n",
              "      <td>[-0.018341973423957825, -0.015721691772341728,...</td>\n",
              "    </tr>\n",
              "    <tr>\n",
              "      <th>10</th>\n",
              "      <td>More Maxi Skirt Moments. Fashion expert and st...</td>\n",
              "      <td>[-0.013555482029914856, -0.0021515581756830215...</td>\n",
              "    </tr>\n",
              "    <tr>\n",
              "      <th>11</th>\n",
              "      <td>Platform Slip-Ons. Though the platform slip-on...</td>\n",
              "      <td>[-0.0062597692012786865, -0.02135361172258854,...</td>\n",
              "    </tr>\n",
              "    <tr>\n",
              "      <th>12</th>\n",
              "      <td>More Mesh. Another Y2K-esque fashion statement...</td>\n",
              "      <td>[-0.02809741348028183, -0.004492631647735834, ...</td>\n",
              "    </tr>\n",
              "    <tr>\n",
              "      <th>13</th>\n",
              "      <td>Transparent Layering. Celebrities have been al...</td>\n",
              "      <td>[-0.01733557879924774, -0.011049418710172176, ...</td>\n",
              "    </tr>\n",
              "    <tr>\n",
              "      <th>14</th>\n",
              "      <td>’90s Minimalism. As opposed to last spring’s d...</td>\n",
              "      <td>[-0.014001069590449333, -0.0031081701163202524...</td>\n",
              "    </tr>\n",
              "    <tr>\n",
              "      <th>15</th>\n",
              "      <td>Romantic Femininity. Balletcore is here to sta...</td>\n",
              "      <td>[-0.04315154626965523, -0.01202584058046341, -...</td>\n",
              "    </tr>\n",
              "    <tr>\n",
              "      <th>16</th>\n",
              "      <td>New-School Fringe. Fringe has long been associ...</td>\n",
              "      <td>[-0.01182369515299797, -0.00494574848562479, 0...</td>\n",
              "    </tr>\n",
              "    <tr>\n",
              "      <th>17</th>\n",
              "      <td>Flashy Metallics. Sequins and shiny finishes s...</td>\n",
              "      <td>[-0.008423937484622002, 0.0021610537078231573,...</td>\n",
              "    </tr>\n",
              "    <tr>\n",
              "      <th>18</th>\n",
              "      <td>Oversized Bags. As cute as they can be, tiny b...</td>\n",
              "      <td>[-0.0017038026126101613, -0.006391137838363647...</td>\n",
              "    </tr>\n",
              "    <tr>\n",
              "      <th>19</th>\n",
              "      <td>Baggy Denim. Denim remains just as baggy this ...</td>\n",
              "      <td>[-0.02462688274681568, -0.012207004241645336, ...</td>\n",
              "    </tr>\n",
              "    <tr>\n",
              "      <th>20</th>\n",
              "      <td>Moto Detailing. You’ll probably never become a...</td>\n",
              "      <td>[-0.015753036364912987, -0.0014947105664759874...</td>\n",
              "    </tr>\n",
              "    <tr>\n",
              "      <th>21</th>\n",
              "      <td>Dreamy Rosettes. We know, we know: Florals for...</td>\n",
              "      <td>[-0.012544839642941952, 0.00554816797375679, 0...</td>\n",
              "    </tr>\n",
              "    <tr>\n",
              "      <th>22</th>\n",
              "      <td>Perfectly Imperfect. I recently wore Prada’s s...</td>\n",
              "      <td>[-0.027120858430862427, -0.002347387373447418,...</td>\n",
              "    </tr>\n",
              "    <tr>\n",
              "      <th>23</th>\n",
              "      <td>Blazers Become Cinched. When ultimate cool-gir...</td>\n",
              "      <td>[-0.029545610770583153, -0.021916916593909264,...</td>\n",
              "    </tr>\n",
              "    <tr>\n",
              "      <th>24</th>\n",
              "      <td>Moto-Inspired. A luxe piece of leather is simu...</td>\n",
              "      <td>[-0.03398443013429642, -0.009518913924694061, ...</td>\n",
              "    </tr>\n",
              "    <tr>\n",
              "      <th>25</th>\n",
              "      <td>Bold Color Bottoms. As someone who tends to le...</td>\n",
              "      <td>[-0.014990242198109627, -0.0068103051744401455...</td>\n",
              "    </tr>\n",
              "    <tr>\n",
              "      <th>26</th>\n",
              "      <td>Bright White Footwear. I'm excited to lighten ...</td>\n",
              "      <td>[0.0003186866524629295, -0.028604554012417793,...</td>\n",
              "    </tr>\n",
              "    <tr>\n",
              "      <th>27</th>\n",
              "      <td>Sculptural Statement Earrings. For me, this sp...</td>\n",
              "      <td>[-0.03315258026123047, -0.004639524035155773, ...</td>\n",
              "    </tr>\n",
              "    <tr>\n",
              "      <th>28</th>\n",
              "      <td>New Neoclassical. I am always smitten with lad...</td>\n",
              "      <td>[-0.03609175980091095, -0.003383602714166045, ...</td>\n",
              "    </tr>\n",
              "    <tr>\n",
              "      <th>29</th>\n",
              "      <td>Detailed Denim. I’m very excited for all of sp...</td>\n",
              "      <td>[-0.018048234283924103, -0.004589736461639404,...</td>\n",
              "    </tr>\n",
              "    <tr>\n",
              "      <th>30</th>\n",
              "      <td>Modern Boho. This spring, I am excited to embr...</td>\n",
              "      <td>[-0.04759504646062851, -0.008400321938097477, ...</td>\n",
              "    </tr>\n",
              "    <tr>\n",
              "      <th>31</th>\n",
              "      <td>The Tailored Look. This spring, I’m looking to...</td>\n",
              "      <td>[-0.023655513301491737, 0.006569489371031523, ...</td>\n",
              "    </tr>\n",
              "    <tr>\n",
              "      <th>32</th>\n",
              "      <td>Tip-Top Tops. As I tend to mostly buy outerwea...</td>\n",
              "      <td>[-0.017488377168774605, -0.008764571510255337,...</td>\n",
              "    </tr>\n",
              "    <tr>\n",
              "      <th>33</th>\n",
              "      <td>Draped Dressing. I can’t wait to wear spring’s...</td>\n",
              "      <td>[-0.015144383534789085, -0.004899653606116772,...</td>\n",
              "    </tr>\n",
              "    <tr>\n",
              "      <th>34</th>\n",
              "      <td>Sheer Layering. I never in my life thought I w...</td>\n",
              "      <td>[-0.013652394525706768, -0.01009349338710308, ...</td>\n",
              "    </tr>\n",
              "    <tr>\n",
              "      <th>35</th>\n",
              "      <td>Floor Length for Days. Floor-grazing maxiskirt...</td>\n",
              "      <td>[-0.023820169270038605, -0.009032574482262135,...</td>\n",
              "    </tr>\n",
              "    <tr>\n",
              "      <th>36</th>\n",
              "      <td>Ruby Slippers. Late last year, I suddenly deci...</td>\n",
              "      <td>[-0.0034449012018740177, -0.029273418709635735...</td>\n",
              "    </tr>\n",
              "    <tr>\n",
              "      <th>37</th>\n",
              "      <td>The-Bigger-the-Better Bags. Gone are the days ...</td>\n",
              "      <td>[-0.011324513703584671, -0.0036169933155179024...</td>\n",
              "    </tr>\n",
              "    <tr>\n",
              "      <th>38</th>\n",
              "      <td>Pinstripe Tailoring. The suit vest sparked a s...</td>\n",
              "      <td>[-0.009280670434236526, 0.005129323806613684, ...</td>\n",
              "    </tr>\n",
              "    <tr>\n",
              "      <th>39</th>\n",
              "      <td>New Reasons for Nightwear. Influenced by the s...</td>\n",
              "      <td>[0.00770843680948019, -0.006961363833397627, 0...</td>\n",
              "    </tr>\n",
              "    <tr>\n",
              "      <th>40</th>\n",
              "      <td>In a diplomatic turn, designers have extended ...</td>\n",
              "      <td>[-0.007449679542332888, -0.013561342842876911,...</td>\n",
              "    </tr>\n",
              "    <tr>\n",
              "      <th>41</th>\n",
              "      <td>\"Spring/summer 2023 marks the reinstatement of...</td>\n",
              "      <td>[-0.018507791683077812, 0.011237367056310177, ...</td>\n",
              "    </tr>\n",
              "    <tr>\n",
              "      <th>42</th>\n",
              "      <td>Metallics are commonplace in autumn/winter col...</td>\n",
              "      <td>[-0.023563848808407784, 0.002802578266710043, ...</td>\n",
              "    </tr>\n",
              "    <tr>\n",
              "      <th>43</th>\n",
              "      <td>Interesting metallics were a standout trend fo...</td>\n",
              "      <td>[-0.02782713808119297, 0.012784005142748356, 0...</td>\n",
              "    </tr>\n",
              "    <tr>\n",
              "      <th>44</th>\n",
              "      <td>I get it. Some of the trends on this list migh...</td>\n",
              "      <td>[-0.021660028025507927, -0.008587434887886047,...</td>\n",
              "    </tr>\n",
              "    <tr>\n",
              "      <th>45</th>\n",
              "      <td>\"It's no surprise that a post-lockdown world i...</td>\n",
              "      <td>[-0.009852975606918335, -0.00619981624186039, ...</td>\n",
              "    </tr>\n",
              "    <tr>\n",
              "      <th>46</th>\n",
              "      <td>Fashion likes to work in extremes; typically, ...</td>\n",
              "      <td>[-0.019205139949917793, 0.010247829370200634, ...</td>\n",
              "    </tr>\n",
              "    <tr>\n",
              "      <th>47</th>\n",
              "      <td>\"Big bags have become a favourite among celebr...</td>\n",
              "      <td>[-0.016332341358065605, -0.0036791893653571606...</td>\n",
              "    </tr>\n",
              "    <tr>\n",
              "      <th>48</th>\n",
              "      <td>Fashion's fascination with knitwear doesn't di...</td>\n",
              "      <td>[-0.004620123654603958, -0.005538783967494965,...</td>\n",
              "    </tr>\n",
              "    <tr>\n",
              "      <th>49</th>\n",
              "      <td>\"Crochet featured in so many collections, from...</td>\n",
              "      <td>[-0.029567113146185875, -0.010345779359340668,...</td>\n",
              "    </tr>\n",
              "  </tbody>\n",
              "</table>\n",
              "</div>"
            ]
          },
          "metadata": {},
          "execution_count": 174
        }
      ]
    },
    {
      "cell_type": "code",
      "source": [
        "\n",
        "\n",
        "from scipy.spatial.distance import cosine\n",
        "\n",
        "\n",
        "def get_embeddings(texts, model_name):\n",
        "    \"\"\"\n",
        "    Fetch embeddings for a list of texts using OpenAI's API.\n",
        "    \"\"\"\n",
        "    response = openai.Embedding.create(\n",
        "        input=texts,\n",
        "        engine=model_name\n",
        "    )\n",
        "    return [item[\"embedding\"] for item in response[\"data\"]]\n",
        "\n",
        "def cosine_similarity(vec1, vec2):\n",
        "    \"\"\"\n",
        "    Compute the cosine similarity between two vectors.\n",
        "    \"\"\"\n",
        "    # Note: Subtracting from 1 because cosine() gives distance, not similarity\n",
        "    return 1 - cosine(vec1, vec2)\n",
        "\n",
        "def get_rows_sorted_by_relevance_alternate(question, df, model_name):\n",
        "    \"\"\"\n",
        "    Alternate function to sort dataframe rows based on relevance to a question.\n",
        "    \"\"\"\n",
        "    # Get the embedding for the question\n",
        "    question_embedding = get_embeddings([question], model_name)[0]\n",
        "\n",
        "    # Calculate cosine similarity between question embedding and each row's embedding\n",
        "    similarities = df[\"embeddings\"].apply(lambda emb: cosine_similarity(question_embedding, emb))\n",
        "\n",
        "    # Add similarities to the dataframe\n",
        "    df_copy = df.copy()\n",
        "    df_copy[\"similarities\"] = similarities\n",
        "\n",
        "    # Sort by similarities in descending order (higher similarity = more relevant)\n",
        "    df_copy.sort_values(\"similarities\", ascending=False, inplace=True)\n",
        "\n",
        "    return df_copy\n",
        "\n"
      ],
      "metadata": {
        "id": "XeoyGOWMeO8n"
      },
      "execution_count": 175,
      "outputs": []
    },
    {
      "cell_type": "code",
      "source": [
        "q1_prompt = \"\"\"\n",
        "Question: \"What is new in fashion in 2023.\"\n",
        "Answer:\n",
        "\"\"\"\n",
        "\n",
        "q1_answer = openai.Completion.create(\n",
        "    model=\"gpt-3.5-turbo-instruct\", # using laster instruct gpt model\n",
        "    prompt=q1_prompt,\n",
        "    max_tokens=150\n",
        ")[\"choices\"][0][\"text\"].strip()\n",
        "\n",
        "print(q1_answer)\n"
      ],
      "metadata": {
        "colab": {
          "base_uri": "https://localhost:8080/"
        },
        "id": "bfpdHeumlYdG",
        "outputId": "35abe14a-d38e-4db7-d485-c76642e1dacf"
      },
      "execution_count": 176,
      "outputs": [
        {
          "output_type": "stream",
          "name": "stdout",
          "text": [
            "It is difficult to predict specific fashion trends for the year 2023 as the fashion industry is constantly evolving and changing. However, fashion forecasters and experts have identified some potential trends that may be popular in 2023:\n",
            "\n",
            "1. Sustainable and ethical fashion: With increasing awareness about environmental and social issues, there has been a growing demand for sustainable and ethical fashion. In 2023, we may see more designers and brands using environmentally friendly materials and ethical production methods.\n",
            "\n",
            "2. Genderless fashion: In recent years, there has been a blurring of traditional gender roles and fashion has reflected this shift. In 2023, we may see a greater focus on unisex and genderless clothing, with more androgynous styles and designs.\n"
          ]
        }
      ]
    },
    {
      "cell_type": "code",
      "source": [
        "q2_prompt = \"\"\"\n",
        "Question: \"what colour is the trends in fall 2023?\"\n",
        "Answer:\n",
        "\"\"\"\n",
        "\n",
        "q2_answer = openai.Completion.create(\n",
        "    model=\"gpt-3.5-turbo-instruct\",\n",
        "    prompt=q2_prompt,\n",
        "    max_tokens=150\n",
        ")[\"choices\"][0][\"text\"].strip()\n",
        "\n",
        "print(q2_answer)"
      ],
      "metadata": {
        "colab": {
          "base_uri": "https://localhost:8080/"
        },
        "id": "4tO46yelm7hS",
        "outputId": "709f732a-6568-4142-d5f5-e30ffc4f8158"
      },
      "execution_count": 177,
      "outputs": [
        {
          "output_type": "stream",
          "name": "stdout",
          "text": [
            "It is impossible to accurately predict the color trends for Fall 2023 at this time. Fashion trends are constantly changing and are heavily influenced by the designers, consumer preferences, and other factors that cannot be predicted so far in advance.\n"
          ]
        }
      ]
    },
    {
      "cell_type": "code",
      "source": [
        "import tiktoken\n",
        "\n",
        "def create_prompt(question, df, max_token_count):\n",
        "    \"\"\"\n",
        "    Given a question and a dataframe containing rows of text and their\n",
        "    embeddings, construct a text prompt for a Completion model.\n",
        "    \"\"\"\n",
        "    # Initialize the tokenizer\n",
        "    tokenizer = tiktoken.get_encoding(\"cl100k_base\")\n",
        "\n",
        "    # Define the static parts of the prompt to pre-calculate their token counts\n",
        "    prompt_template_start = \"\"\"\n",
        "    Answer the question based on the context below, and if the question\n",
        "    can't be answered based on the context, say \"I don't know\"\n",
        "\n",
        "    Context:\"\"\"\n",
        "\n",
        "    prompt_template_end = \"\"\"\n",
        "\n",
        "    ---\n",
        "\n",
        "    Question: {}\n",
        "\n",
        "    Answer:\"\"\"\n",
        "\n",
        "    # Calculate the token count for static parts of the prompt and the question\n",
        "    static_token_count = len(tokenizer.encode(prompt_template_start)) + \\\n",
        "                         len(tokenizer.encode(prompt_template_end.format(question)))\n",
        "\n",
        "    # Calculate the maximum token count available for the context\n",
        "    max_context_token_count = max_token_count - static_token_count - len(tokenizer.encode(question))\n",
        "\n",
        "    # Initialize variables to build and track context\n",
        "    context = []\n",
        "    context_token_count = 0\n",
        "\n",
        "    # Iterate through rows sorted by relevance to add to the context\n",
        "    for text in get_rows_sorted_by_relevance(question, df)[\"text\"].values:\n",
        "        text_token_count = len(tokenizer.encode(text))\n",
        "\n",
        "        # Check if adding this text would exceed the max token count for context\n",
        "        if context_token_count + text_token_count <= max_context_token_count:\n",
        "            context.append(text)\n",
        "            context_token_count += text_token_count\n",
        "        else:\n",
        "            break\n",
        "\n",
        "    # Construct and return the full prompt\n",
        "    full_context = \"\\n\\n###\\n\\n\".join(context)\n",
        "    return f\"{prompt_template_start}\\n\\n{full_context}{prompt_template_end.format(question)}\"\n",
        "\n"
      ],
      "metadata": {
        "id": "ILmITXJPtmcm"
      },
      "execution_count": 178,
      "outputs": []
    },
    {
      "cell_type": "code",
      "source": [
        "\n",
        "\n",
        "def custom_query(question, df, max_prompt_tokens=3000, max_answer_tokens=750):\n",
        "    \"\"\"\n",
        "    Given a question, a dataframe containing rows of text, and a maximum number of desired tokens\n",
        "    in the prompt and response, returns the answer to the question according to an OpenAI Completion model.\n",
        "    If the model encounters an error, it returns an empty string.\n",
        "    \"\"\"\n",
        "\n",
        "    # Ensure you're using the correct model identifier here\n",
        "    model_name = \"gpt-3.5-turbo-instruct\"  # Correct model identifier for GPT-3.5 Turbo\n",
        "\n",
        "    # Generate the prompt using your prompt creation function\n",
        "    prompt = create_prompt(question, df, max_prompt_tokens)\n",
        "\n",
        "    try:\n",
        "        # Use the OpenAI API to generate a completion based on the prompt\n",
        "        response = openai.Completion.create(\n",
        "            model=model_name,\n",
        "            prompt=prompt,\n",
        "            max_tokens=max_answer_tokens,\n",
        "            stop=None  # Optional: Specify stopping criteria if needed\n",
        "        )\n",
        "        # Extract and return the trimmed response text\n",
        "        return response.choices[0].text.strip()\n",
        "    except Exception as e:\n",
        "        # Optionally log the error message for debugging purposes\n",
        "        print(f\"Error generating completion: {e}\")\n",
        "        return \"\"\n"
      ],
      "metadata": {
        "id": "c-FBbiRXuq81"
      },
      "execution_count": 179,
      "outputs": []
    },
    {
      "cell_type": "code",
      "source": [
        "print(create_prompt(\"what was the best color in trend 2023?\", df, 1000))"
      ],
      "metadata": {
        "colab": {
          "base_uri": "https://localhost:8080/"
        },
        "id": "2uohW10fuu1f",
        "outputId": "43e49fc6-79b6-49dd-9111-e97222c17f8d"
      },
      "execution_count": 180,
      "outputs": [
        {
          "output_type": "stream",
          "name": "stdout",
          "text": [
            "\n",
            "    Answer the question based on the context below, and if the question\n",
            "    can't be answered based on the context, say \"I don't know\"\n",
            "\n",
            "    Context:\n",
            "\n",
            "2023 Fashion Trend: Cobalt Blue. The strongest color story to come out of Spring 2023 runways, cobalt blue has burst through the collections with the freshness of a sea mist on a morning day. Just bright enough to warrant a double take, yet subtle enough to be worked into daily wear, it's the type of deep blue that will excite even the most color-averse. Bonus points: It pairs well with Pantone's Viva Magenta.\n",
            "\n",
            "###\n",
            "\n",
            "2023 Fashion Trend: Red. Glossy red hues took over the Fall 2023 runways ranging from Sandy Liang and PatBo to Tory Burch and Wiederhoeft. Think: Juicy reds with vibrant orange undertones that would look just as good in head-to-toe looks (see: a pantsuit) as accent accessory pieces (shoes, handbags, jewelry).\n",
            "\n",
            "###\n",
            "\n",
            "\"Every season, there is a trend that speaks to the inner maximalist in us. While autumn gave us lurid neons, biker boots and Y2K glamour, spring/summer 2023 presents something a little sweeter, and those with an aversion to all things 'pretty,' consider this your warning to look away now,\" says Remy Farrell, shopping editor at Who What Wear UK.\n",
            "\n",
            "###\n",
            "\n",
            "2023 Fashion Trend: Shine For The Daytime. The amount of shine on the 2023 runways would make you think we are back in the Roaring '20s. While sequins may feel over as soon as the clock strikes midnight on January 31, this year, designers are making a case for \"daytime shine\" – wearable separates that can spice up even the most basic staples like tank tops (see above) and blue jeans. While this trend comes in all metallic shades (gold, bronze, rose gold etc.), we are partial to the liquid silver look that can double as a neutral.\n",
            "\n",
            "###\n",
            "\n",
            "If lime green isn't your vibe, rest assured there was another bold hue that practically jumped off the runway and my screen, which was evident from the moment I began this lengthy research process. Striking red ensembles, where shades of saffron were styled top to toe, were present in the form of tights and tuxedos at Ferragamo, sharp tailoring at Alexander McQueen, impressive fringing at Bottega Veneta and tube dresses and leggings at Alaïa.\n",
            "\n",
            "###\n",
            "\n",
            "Since attending the shows back in September, I must have looked at well over 10,000 runway images to discern the looks I'd include in this, our bumper spring/summer 2023 fashion trend overview. (That's no exaggeration by the way; if you take 350 shows with, say, 30 models each, the number quickly racks up.) Some trends take some digging to unearth, but others? Well, they're pretty hard to miss. Green falls into the latter category.\n",
            "\n",
            "###\n",
            "\n",
            "In a diplomatic turn, designers have extended the lifespan of some noteworthy A/W 22 trends, continuing their exploration of them in 2023, ensuring we get adequate wear out of the pieces in which we've already invested. Elevated basics is one such trend. Last season, there was a clear '90s directive when it came to minimalism, with logo vests, low-slung trousers and tube dresses being hero items. Now, things have been pared back even further; sure, Y2K maxi skirts and oversized suiting are very much a thing, as witnessed on the runways of Peter Do and Roksanda respectively, but the silhouettes are cleaner and the colour palette looks more expensive; think shades of teal, camel and navy.\n",
            "\n",
            "###\n",
            "\n",
            "2023 Fashion Trend: Sheer Clothing. \"Bare it all\" has been the motto since the end of the lockdown. In 2023,  naked dressing makes its way from the red carpet – where celebrities like Cher and Rihanna have been sporting the trend forever – to street style. From a cellophane-like dress, worn over a boldly hued maxi skirt at Tory Burch's spring 2023 show, to a frothy frock revealing undergarments at Victoria Beckham, the previously risqué trend is coming not only for your weekend wardrobe but even workwear.\n",
            "\n",
            "###\n",
            "\n",
            "Pinstripe Tailoring. The suit vest sparked a sartorial sensation over the summer, and the fad isn’t going anywhere in 2023 either. I specifically loved the pinstripe versions seen at the Coperni SS23 show. I plan on wearing this one from Favorite Daughter with a matching pant for the ultimate gray outfit. —Laura Jackson, commerce writer\n",
            "\n",
            "    ---\n",
            "\n",
            "    Question: what was the best color in trend 2023?\n",
            "    \n",
            "    Answer:\n"
          ]
        }
      ]
    },
    {
      "cell_type": "markdown",
      "source": [
        "Question01"
      ],
      "metadata": {
        "id": "XmhMD_nd2Oq0"
      }
    },
    {
      "cell_type": "markdown",
      "source": [
        "Custom Performance Demonstration"
      ],
      "metadata": {
        "id": "01jPArsm0eh9"
      }
    },
    {
      "cell_type": "code",
      "source": [
        "print(q1_answer)"
      ],
      "metadata": {
        "colab": {
          "base_uri": "https://localhost:8080/"
        },
        "id": "IVQ1Xuqc0p8c",
        "outputId": "f093b445-0d86-45c4-a1db-133629df0a50"
      },
      "execution_count": 181,
      "outputs": [
        {
          "output_type": "stream",
          "name": "stdout",
          "text": [
            "It is difficult to predict specific fashion trends for the year 2023 as the fashion industry is constantly evolving and changing. However, fashion forecasters and experts have identified some potential trends that may be popular in 2023:\n",
            "\n",
            "1. Sustainable and ethical fashion: With increasing awareness about environmental and social issues, there has been a growing demand for sustainable and ethical fashion. In 2023, we may see more designers and brands using environmentally friendly materials and ethical production methods.\n",
            "\n",
            "2. Genderless fashion: In recent years, there has been a blurring of traditional gender roles and fashion has reflected this shift. In 2023, we may see a greater focus on unisex and genderless clothing, with more androgynous styles and designs.\n"
          ]
        }
      ]
    },
    {
      "cell_type": "code",
      "source": [
        "Q1= \"What is new in fashion in 2023\"\n",
        "result_custom_q1 = custom_query(Q1, df)\n",
        "\n",
        "print(f\"Custom query result for Question 1: {result_custom_q1}\")"
      ],
      "metadata": {
        "colab": {
          "base_uri": "https://localhost:8080/"
        },
        "id": "Yz3Gl_qh1SIQ",
        "outputId": "83cd15ca-447c-4578-f2b5-dcc3029b92fb"
      },
      "execution_count": 182,
      "outputs": [
        {
          "output_type": "stream",
          "name": "stdout",
          "text": [
            "Custom query result for Question 1: There are several trends emerging in 2023 fashion, including sheer clothing, shine for daytime, red hues, cobalt blue, denim reimagined, maxi skirts, and cargo pants. Other trends include elevated basics, 3D floral motifs, utilitarian wear, and indie sleaze. Fashion is also seeing a resurgence of tailored silhouettes, white cotton, ballet shoes, and green hues. Other trends relate to trains, cinched waists, form-fitting prints, sheer fashion, bubble skirts, and leather jackets. Finally, new digitally manipulated prints are gaining popularity as well.\n"
          ]
        }
      ]
    },
    {
      "cell_type": "markdown",
      "source": [
        "Question02"
      ],
      "metadata": {
        "id": "wjzBj6uk2TG-"
      }
    },
    {
      "cell_type": "code",
      "source": [
        "print(q2_answer)"
      ],
      "metadata": {
        "colab": {
          "base_uri": "https://localhost:8080/"
        },
        "id": "MxxxfWuG2U3y",
        "outputId": "fadee154-e9c7-44f3-f19d-63fbac23e8ac"
      },
      "execution_count": 183,
      "outputs": [
        {
          "output_type": "stream",
          "name": "stdout",
          "text": [
            "It is impossible to accurately predict the color trends for Fall 2023 at this time. Fashion trends are constantly changing and are heavily influenced by the designers, consumer preferences, and other factors that cannot be predicted so far in advance.\n"
          ]
        }
      ]
    },
    {
      "cell_type": "code",
      "source": [
        "Q2= \"What is new in fashion in 2023\"\n",
        "result_custom_q2 = custom_query(Q2, df)\n",
        "\n",
        "print(f\"Custom query result for Question 2: {result_custom_q2}\")"
      ],
      "metadata": {
        "colab": {
          "base_uri": "https://localhost:8080/"
        },
        "id": "rRuME6Mt2b88",
        "outputId": "eaf95717-731d-46dc-f6a1-845a63d0950d"
      },
      "execution_count": 184,
      "outputs": [
        {
          "output_type": "stream",
          "name": "stdout",
          "text": [
            "Custom query result for Question 2: Sheer clothing, shine for daytime, bold red hues, cobalt blue, denim reimagined, cargo pants, indie sleaze, maxi skirts, simplicity in everyday dressing, 3D floral embellishments, perfectly cut trousers, mesh, pinstripe tailoring, neo-minimalism, revealed nudity, ballet shoes, trains on dresses, cinched blazers, formfitting patterns, bubble skirts, and embellished leather jackets are all major trends for fashion in 2023.\n"
          ]
        }
      ]
    }
  ]
}